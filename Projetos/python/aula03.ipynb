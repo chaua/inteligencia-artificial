{
 "cells": [
  {
   "cell_type": "markdown",
   "metadata": {},
   "source": [
    "# Curso Python\n",
    "\n",
    "## Strings"
   ]
  },
  {
   "cell_type": "code",
   "execution_count": 2,
   "metadata": {},
   "outputs": [
    {
     "name": "stdout",
     "output_type": "stream",
     "text": [
      "Isso eh uma frase\n"
     ]
    }
   ],
   "source": [
    "x = 'Isso eh uma frase'\n",
    "print(x)"
   ]
  },
  {
   "cell_type": "code",
   "execution_count": 5,
   "metadata": {},
   "outputs": [
    {
     "name": "stdout",
     "output_type": "stream",
     "text": [
      "Ola, meu nome eh Joao\n",
      "Minha idade eh 10\n"
     ]
    }
   ],
   "source": [
    "nome = 'Joao'\n",
    "frase = f'Ola, meu nome eh {nome}'\n",
    "print(frase)\n",
    "\n",
    "idade = 10\n",
    "frase = f'Minha idade eh {idade}'\n",
    "print(frase)"
   ]
  },
  {
   "cell_type": "code",
   "execution_count": 9,
   "metadata": {},
   "outputs": [
    {
     "name": "stdout",
     "output_type": "stream",
     "text": [
      "O valor eh 16.0\n"
     ]
    }
   ],
   "source": [
    "valor = 15.99234\n",
    "print(f'O valor eh {valor:.1f}')\n"
   ]
  },
  {
   "cell_type": "code",
   "execution_count": 24,
   "metadata": {},
   "outputs": [
    {
     "name": "stdout",
     "output_type": "stream",
     "text": [
      "Minhas férias\n",
      "\n",
      "As minhas férias bla bla bla. Etc... Joao\n",
      "\n",
      "Fim.\n",
      "\n"
     ]
    }
   ],
   "source": [
    "redacao = f\"\"\"Minhas férias\n",
    "\n",
    "As minhas férias bla bla bla. Etc... {nome}\n",
    "\n",
    "Fim.\n",
    "\"\"\"\n",
    "print(redacao)\n"
   ]
  },
  {
   "cell_type": "markdown",
   "metadata": {},
   "source": [
    "## Dicionários"
   ]
  },
  {
   "cell_type": "code",
   "execution_count": 10,
   "metadata": {},
   "outputs": [
    {
     "name": "stdout",
     "output_type": "stream",
     "text": [
      "{'nome': 'Francisco', 'matricula': 1234, 'nota': 7.89}\n"
     ]
    }
   ],
   "source": [
    "aluno = {\n",
    "    'nome': 'Francisco',\n",
    "    'matricula': 1234,\n",
    "    'nota': 7.89,\n",
    "}\n",
    "print(aluno)"
   ]
  },
  {
   "cell_type": "code",
   "execution_count": 12,
   "metadata": {},
   "outputs": [
    {
     "name": "stdout",
     "output_type": "stream",
     "text": [
      "Nome do aluno: Francisco\n",
      "Matricula....: 00001234\n",
      "Nota.........: 7.9\n"
     ]
    }
   ],
   "source": [
    "print(f\"Nome do aluno: {aluno['nome']}\")\n",
    "print(f\"Matricula....: {aluno['matricula']:08d}\")\n",
    "print(f\"Nota.........: {aluno['nota']:.1f}\")"
   ]
  },
  {
   "cell_type": "markdown",
   "metadata": {},
   "source": [
    "## Funções"
   ]
  },
  {
   "cell_type": "code",
   "execution_count": 20,
   "metadata": {},
   "outputs": [
    {
     "name": "stdout",
     "output_type": "stream",
     "text": [
      " 5!  = 120\n",
      "10! = 3628800\n",
      " 0!  = 1\n",
      " 1!  = 1\n",
      "Nao existe fatorial de -1\n"
     ]
    }
   ],
   "source": [
    "def fatorial(n):\n",
    "    if n == 0:\n",
    "        return 1\n",
    "    elif n < 0:\n",
    "        raise RuntimeError(f'Nao existe fatorial de {n}')\n",
    "        \n",
    "    fat = n\n",
    "    for i in range(1, n):\n",
    "        fat *= i\n",
    "    return fat\n",
    "\n",
    "try:\n",
    "    print(f' 5!  = {fatorial(5)}')\n",
    "    print(f'10! = {fatorial(10)}')\n",
    "    print(f' 0!  = {fatorial(0)}')\n",
    "    print(f' 1!  = {fatorial(1)}')\n",
    "    print(f'-1!  = {fatorial(-1)}')\n",
    "except RuntimeError as ex:\n",
    "    print(ex)\n",
    "    "
   ]
  },
  {
   "cell_type": "markdown",
   "metadata": {},
   "source": [
    "## PyDoc\n",
    "\n",
    "Permite criar a documentação do código no próprio código. Adicina string multi-linhas com algumas tags especiais.\n",
    "\n",
    "As strings devem ser adicionadas logo após a declaração da classe, função ou método."
   ]
  },
  {
   "cell_type": "markdown",
   "metadata": {},
   "source": [
    "## Pacotes"
   ]
  },
  {
   "cell_type": "code",
   "execution_count": 39,
   "metadata": {},
   "outputs": [
    {
     "name": "stdout",
     "output_type": "stream",
     "text": [
      "1\n",
      "5\n",
      "5\n"
     ]
    }
   ],
   "source": [
    "# Para importar outros pacotes\n",
    "import random\n",
    "print(random.randint(1, 10))\n",
    "\n",
    "import random as rnd\n",
    "print(rnd.randint(1, 10))\n",
    "\n",
    "from random import randint\n",
    "print(randint(1, 10))"
   ]
  },
  {
   "cell_type": "markdown",
   "metadata": {},
   "source": [
    "## Classes"
   ]
  },
  {
   "cell_type": "code",
   "execution_count": 43,
   "metadata": {},
   "outputs": [
    {
     "name": "stdout",
     "output_type": "stream",
     "text": [
      "3\n"
     ]
    }
   ],
   "source": [
    "# Para importar outros pacotes\n",
    "from statistics import mean\n",
    "print(mean([1, 2, 3, 4, 5]))"
   ]
  },
  {
   "cell_type": "code",
   "execution_count": 44,
   "metadata": {},
   "outputs": [
    {
     "name": "stdout",
     "output_type": "stream",
     "text": [
      "O nome do Joao eh JOAO\n",
      "Joao: 0\n",
      "Jose: 1234\n",
      "Anne: 0\n",
      "8\n"
     ]
    }
   ],
   "source": [
    "class Aluno:\n",
    "    \"\"\"Representacao de um aluno da universidade.\"\"\"\n",
    "    \n",
    "    def __init__(self, nome = '', matricula = 0, notas = []):\n",
    "        \"\"\"O metodo __init__ define o construtor da classe. \n",
    "        Todo metodo de uma classe sempre deve receber o parametro self.\n",
    "        No construtor sao definidos os atributos da classe.\n",
    "        \"\"\"\n",
    "        \n",
    "        # Todos atributos sao declarados no construtor e estao \n",
    "        # amarrados a variavel self\n",
    "        \n",
    "        # Por padrao todas as variaveis sao publicas\n",
    "        #self.nome = ''\n",
    "        #self.matricula = 0\n",
    "        #self.notas = []\n",
    "        \n",
    "        # Para declarar variaveis protegidas, elas devem comecar com _\n",
    "        #self._nome = ''\n",
    "        #self._matricula = 0\n",
    "        #self._notas = []\n",
    "        \n",
    "        # Para declarar variaveis privadas, elas devem comecar com __\n",
    "        self.__nome = nome\n",
    "        self.__matricula = matricula\n",
    "        self.__notas = notas\n",
    "        \n",
    "    def __str__(self):\n",
    "        return f'{self.__nome}: {self.__matricula}'\n",
    "    \n",
    "    @property\n",
    "    def nome(self):\n",
    "        \"\"\"Implementa um 'getter'\"\"\"\n",
    "        return self.__nome.upper()\n",
    "        \n",
    "    @nome.setter\n",
    "    def nome(self, valor):\n",
    "        \"\"\"Implementa um 'setter'\"\"\"\n",
    "        self.__nome = valor\n",
    "        \n",
    "    def media(self):\n",
    "        return mean(self.__notas)\n",
    "\n",
    "# Instanciacao de um objeto\n",
    "joao = Aluno()\n",
    "jose = Aluno('Jose', 1234)\n",
    "anne = Aluno(nome='Anne', notas=[7, 8, 9])\n",
    "\n",
    "joao.nome = 'Joao'\n",
    "print(f'O nome do Joao eh {joao.nome}')\n",
    "\n",
    "print(joao)\n",
    "print(jose)\n",
    "print(anne)\n",
    "print(anne.media())"
   ]
  },
  {
   "cell_type": "code",
   "execution_count": 46,
   "metadata": {},
   "outputs": [
    {
     "name": "stdout",
     "output_type": "stream",
     "text": [
      "Pedro - 23\n",
      "Pedrusco - 23\n"
     ]
    }
   ],
   "source": [
    "class Funcionario:\n",
    "    def __init__(self, nome:str = '', idade:int = 0):\n",
    "        self._nome = nome\n",
    "        self._idade = idade\n",
    "        \n",
    "    def imprime(self):\n",
    "        print(f'{self._nome} - {self._idade}')\n",
    "        \n",
    "class Programador(Funcionario):\n",
    "    def __init__(self, nome:str, idade:int):\n",
    "        super().__init__(nome, idade)\n",
    "\n",
    "pedro = Programador('Pedro', 23)\n",
    "pedro.imprime()\n",
    "\n",
    "pedro._nome = 'Pedrusco' # Nao se deve acessar atributos protegidos!!!\n",
    "pedro.imprime()\n",
    "        "
   ]
  },
  {
   "cell_type": "code",
   "execution_count": null,
   "metadata": {
    "collapsed": true
   },
   "outputs": [],
   "source": []
  }
 ],
 "metadata": {
  "kernelspec": {
   "display_name": "Python 3",
   "language": "python",
   "name": "python3"
  },
  "language_info": {
   "codemirror_mode": {
    "name": "ipython",
    "version": 3
   },
   "file_extension": ".py",
   "mimetype": "text/x-python",
   "name": "python",
   "nbconvert_exporter": "python",
   "pygments_lexer": "ipython3",
   "version": "3.6.3"
  }
 },
 "nbformat": 4,
 "nbformat_minor": 2
}
