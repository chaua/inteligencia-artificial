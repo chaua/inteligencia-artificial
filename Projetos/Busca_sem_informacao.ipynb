{
  "nbformat": 4,
  "nbformat_minor": 0,
  "metadata": {
    "colab": {
      "name": "busca_sem_informação.ipynb",
      "provenance": []
    },
    "kernelspec": {
      "name": "python3",
      "display_name": "Python 3"
    }
  },
  "cells": [
    {
      "cell_type": "markdown",
      "metadata": {
        "id": "6b9KFlV_s5tk"
      },
      "source": [
        "# Busca sem informação"
      ]
    },
    {
      "cell_type": "code",
      "metadata": {
        "id": "bl0_MMXbsEXc"
      },
      "source": [
        "from copy import deepcopy\n",
        "\n",
        "class Estado:\n",
        "    def __init__(self, vetor = [], custo = 0, acao = None, pai = None):\n",
        "        self.vetor = vetor\n",
        "        self.custo = custo\n",
        "        self.acao = acao\n",
        "        self.pai = pai\n",
        "    \n",
        "    def __getitem__(self, i):\n",
        "        return self.vetor[i]\n",
        "\n",
        "    def __eq__(self, outro):\n",
        "        return self.vetor == outro.vetor\n",
        "\n",
        "\n",
        "class Problema:\n",
        "\n",
        "    @property\n",
        "    def estado_inicial(self):\n",
        "        return Estado([[],['D'],['M', 'M', 'M', 'C', 'C', 'C']]\n",
        "\n",
        "    def estado_objetivo(self, estado):\n",
        "        objetivo =  Estado([['M', 'M', 'M', 'C', 'C', 'C'], ['E'], []])\n",
        "        return estado == objetivo\n",
        "\n",
        "    def solucao(self, estado):\n",
        "        resultado = []\n",
        "        ptr = estado\n",
        "        while not ptr.pai:\n",
        "            resultado.append(ptr)\n",
        "            ptr = ptr.pai\n",
        "\n",
        "        return resultado.reverse()\n",
        "        \n",
        "    def modelo_transicao(self, estado):\n",
        "        \"\"\"\n",
        "        [[margem_esq], [barco], [margem_dir]]\n",
        "\n",
        "        ACOES: \n",
        "            E/D - 2M\n",
        "            E/D - 2C\n",
        "            E/D - 1M 1C\n",
        "            E/D - 1M\n",
        "            E/D - 1C\n",
        "        \"\"\"\n",
        "        vizinhos = []\n",
        "\n",
        "        if estado[1] == 'D':\n",
        "            if estado[2].count('M') == 2:\n",
        "                margem_esq = deepcopy(estado[0])\n",
        "                margem_dir = deepcopy(estado[2])\n",
        "\n",
        "                margem_esq.append('M')\n",
        "                margem_esq.append('M')\n",
        "                \n",
        "                margem_dir.remove('M')\n",
        "                margem_dir.remove('M')\n",
        "                \n",
        "                vizinho = Estado([margem_esq, ['E'], margem_dir], estado.custo + 1, 'E - 2M', estado)\n",
        "                vizinhos.append(vizinho)\n",
        "            \n",
        "            if estado[2].count('C') == 2:\n",
        "                margem_esq = deepcopy(estado[0])\n",
        "                margem_dir = deepcopy(estado[2])\n",
        "\n",
        "                margem_esq.append('C')\n",
        "                margem_esq.append('C')\n",
        "                \n",
        "                margem_dir.remove('C')\n",
        "                margem_dir.remove('C')\n",
        "                \n",
        "                vizinho = Estado([margem_esq, ['E'], margem_dir], estado.custo + 1, 'E - 2C', estado)\n",
        "                vizinhos.append(vizinho)\n",
        "\n",
        "\n",
        "        return vizinhos\n",
        "\n",
        "        "
      ],
      "execution_count": null,
      "outputs": []
    },
    {
      "cell_type": "code",
      "metadata": {
        "id": "dQlHXqDOr4gm"
      },
      "source": [
        "def busca_largura(problema: Problema):\n",
        "    \"\"\"Agente que utiliza a estrategia de busca em largura.\"\"\"\n",
        "\n",
        "    # 1. Adiciona o estado inicial na lista de borda\n",
        "    borda = [problema.estado_inicial]  # fringe\n",
        "\n",
        "    # Cria uma lista com a memoria dos estados ja visitados\n",
        "    memoria = [problema.estado_inicial]\n",
        "\n",
        "    while True:\n",
        "\n",
        "        # 2. Verifica se houve falha\n",
        "        if not borda:\n",
        "            raise RuntimeError('Falha ao encontrar solucao')\n",
        " \n",
        "        # 3. Recupera o proximo estado\n",
        "        estado = borda.pop(0)\n",
        " \n",
        "        # 4. Verifica se achou a solucao do problema\n",
        "        if problema.estado_objetivo(estado):\n",
        "            return problema.solucao(estado)\n",
        "\n",
        "        # 5. Geracao dos estados vizinhos \n",
        "        # -- Adiciona os estados ao final da lista - FIFO - Busca em largura\n",
        "        vizinhos = problema.modelo_transicao(estado)\n",
        "\n",
        "        for vizinho in vizinhos:\n",
        "            if vizinho not in memoria:\n",
        "                borda.append(vizinho)\n",
        "                memoria.append(vizinho)\n"
      ],
      "execution_count": null,
      "outputs": []
    },
    {
      "cell_type": "code",
      "metadata": {
        "id": "ZTT7I6SP3jET",
        "outputId": "9f01086e-084d-4012-b119-ade123731d56",
        "colab": {
          "base_uri": "https://localhost:8080/",
          "height": 114
        }
      },
      "source": [
        "from pprint import pprint\n",
        "\n",
        "#texto = ''\n",
        "#with open('labirinto.txt', 'r') as fp:\n",
        "#    texto = fp.readlines()\n",
        "\n",
        "texto = [\n",
        "'+--+--+--+--+--+--+--+--+--+--+',\n",
        "'E     |           |     |     |',\n",
        "'+  +  +  +--+--+  +--+  +  +  +',\n",
        "'|  |  |  |     |  |        |  |',\n",
        "'+  +  +--+  +  +  +  +  +--+--+',\n",
        "]\n",
        "\n",
        "m = []\n",
        "for linha in texto:\n",
        "    aux = []\n",
        "    for coluna in linha:\n",
        "        if coluna == ' ':\n",
        "            aux.append(0)\n",
        "        elif coluna == 'E':\n",
        "            aux.append(1)\n",
        "        elif coluna == 'S':\n",
        "            aux.append(2)\n",
        "        else:\n",
        "            aux.append(9)   \n",
        "    m.append(aux) \n",
        "\n",
        "for linha in m:\n",
        "    print(linha)\n",
        "\n"
      ],
      "execution_count": null,
      "outputs": [
        {
          "output_type": "stream",
          "text": [
            "[9, 9, 9, 9, 9, 9, 9, 9, 9, 9, 9, 9, 9, 9, 9, 9, 9, 9, 9, 9, 9, 9, 9, 9, 9, 9, 9, 9, 9, 9, 9]\n",
            "[1, 0, 0, 0, 0, 0, 9, 0, 0, 0, 0, 0, 0, 0, 0, 0, 0, 0, 9, 0, 0, 0, 0, 0, 9, 0, 0, 0, 0, 0, 9]\n",
            "[9, 0, 0, 9, 0, 0, 9, 0, 0, 9, 9, 9, 9, 9, 9, 9, 0, 0, 9, 9, 9, 9, 0, 0, 9, 0, 0, 9, 0, 0, 9]\n",
            "[9, 0, 0, 9, 0, 0, 9, 0, 0, 9, 0, 0, 0, 0, 0, 9, 0, 0, 9, 0, 0, 0, 0, 0, 0, 0, 0, 9, 0, 0, 9]\n",
            "[9, 0, 0, 9, 0, 0, 9, 9, 9, 9, 0, 0, 9, 0, 0, 9, 0, 0, 9, 0, 0, 9, 0, 0, 9, 9, 9, 9, 9, 9, 9]\n"
          ],
          "name": "stdout"
        }
      ]
    }
  ]
}