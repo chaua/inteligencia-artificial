{
  "nbformat": 4,
  "nbformat_minor": 0,
  "metadata": {
    "colab": {
      "name": "Aula02 - Python básico.ipynb",
      "provenance": [],
      "collapsed_sections": []
    },
    "kernelspec": {
      "name": "python3",
      "display_name": "Python 3"
    }
  },
  "cells": [
    {
      "cell_type": "markdown",
      "metadata": {
        "id": "fzWtk49TyBnN",
        "colab_type": "text"
      },
      "source": [
        "# Programação Python Básico 🐣"
      ]
    },
    {
      "cell_type": "markdown",
      "metadata": {
        "id": "8BDBSHg4yeSp",
        "colab_type": "text"
      },
      "source": [
        "## Variáveis\n",
        "\n",
        "Uma variável é um nome que se refere a um valor. As variáveis são criadas assim que um valor é atribuído à elas. Em Python, as variáveis não estão amarradas à um único tipo de dados, e assim podem receber qualquer valor."
      ]
    },
    {
      "cell_type": "code",
      "metadata": {
        "id": "5RxN3nhyz2Ih",
        "colab_type": "code",
        "colab": {
          "base_uri": "https://localhost:8080/",
          "height": 56
        },
        "outputId": "073897e7-2f77-41a4-a92b-1ec9006f7a54"
      },
      "source": [
        "x = 10 \n",
        "print(x)\n",
        "\n",
        "x = 'banana'\n",
        "print(x)"
      ],
      "execution_count": null,
      "outputs": [
        {
          "output_type": "stream",
          "text": [
            "10\n",
            "banana\n"
          ],
          "name": "stdout"
        }
      ]
    },
    {
      "cell_type": "markdown",
      "metadata": {
        "id": "-rNMJfTU0GCi",
        "colab_type": "text"
      },
      "source": [
        "## Tipos de dados \n",
        "\n",
        "O tipo de uma variável é definido a partir do valor atribuído à ela. A função  `type()` retorna o tipo do valor referenciado pela variável.\n",
        "\n",
        "Os tipos básicos da linguagem são:\n",
        "\n",
        "- `int`: valores inteiros\n",
        "- `float`: valores reais em ponto flutuante\n",
        "- `str`: cadeias de caracteres\n",
        "- `bool`: valores booleanos (`True` ou `False`)\n",
        "- `tupla`: tupla imutável de valores\n",
        "- `list`: lista mutável de valores\n",
        "- `dict`: vetor associativo\n"
      ]
    },
    {
      "cell_type": "code",
      "metadata": {
        "id": "5LvIHncY3UsL",
        "colab_type": "code",
        "colab": {
          "base_uri": "https://localhost:8080/",
          "height": 153
        },
        "outputId": "3629f370-861f-487a-d0ef-e9777c177f93"
      },
      "source": [
        "x = 10 \n",
        "print(type(x))"
      ],
      "execution_count": null,
      "outputs": [
        {
          "output_type": "stream",
          "text": [
            "<class 'int'>\n",
            "<class 'float'>\n",
            "<class 'str'>\n",
            "<class 'str'>\n",
            "<class 'bool'>\n",
            "<class 'list'>\n",
            "<class 'dict'>\n"
          ],
          "name": "stdout"
        }
      ]
    },
    {
      "cell_type": "code",
      "metadata": {
        "id": "G6gJw0bt5wCa",
        "colab_type": "code",
        "colab": {}
      },
      "source": [
        "x = 10.0 \n",
        "print(type(x))"
      ],
      "execution_count": null,
      "outputs": []
    },
    {
      "cell_type": "code",
      "metadata": {
        "id": "KtKOVwli5ykg",
        "colab_type": "code",
        "colab": {}
      },
      "source": [
        "x = '10' \n",
        "print(type(x))"
      ],
      "execution_count": null,
      "outputs": []
    },
    {
      "cell_type": "code",
      "metadata": {
        "id": "kkI_3PWS51PN",
        "colab_type": "code",
        "colab": {}
      },
      "source": [
        "x = \"10\" \n",
        "print(type(x))\n",
        "\n",
        "x = 'Isso é uma frase'\n",
        "print(type(x))"
      ],
      "execution_count": null,
      "outputs": []
    },
    {
      "cell_type": "code",
      "metadata": {
        "id": "nG8WKpmw59RI",
        "colab_type": "code",
        "colab": {}
      },
      "source": [
        "x = True\n",
        "print(type(x))"
      ],
      "execution_count": null,
      "outputs": []
    },
    {
      "cell_type": "code",
      "metadata": {
        "id": "Hdk-qwE17Ufg",
        "colab_type": "code",
        "colab": {}
      },
      "source": [
        "x = (1, 2, 3, 4, 'jaca', False)\n",
        "print(x)"
      ],
      "execution_count": null,
      "outputs": []
    },
    {
      "cell_type": "code",
      "metadata": {
        "id": "yI-tSXY96AeP",
        "colab_type": "code",
        "colab": {}
      },
      "source": [
        "x = [1, 2, 3, 4, 'jaca', False]\n",
        "print(type(x))"
      ],
      "execution_count": null,
      "outputs": []
    },
    {
      "cell_type": "code",
      "metadata": {
        "id": "KPZNBvLq5mID",
        "colab_type": "code",
        "colab": {}
      },
      "source": [
        "x = {\n",
        "    'nome': 'Homer Simpson',\n",
        "    'idade': 40,\n",
        "    'salario': 3_000.00,\n",
        "}\n",
        "\n",
        "print(type(x))"
      ],
      "execution_count": null,
      "outputs": []
    },
    {
      "cell_type": "markdown",
      "metadata": {
        "id": "n1baWtgWycLW",
        "colab_type": "text"
      },
      "source": [
        "### Representação de números inteiros"
      ]
    },
    {
      "cell_type": "code",
      "metadata": {
        "id": "uM5Mju1A5In3",
        "colab_type": "code",
        "colab": {}
      },
      "source": [
        "# Representação em hexadecimal\n",
        "x = 0xCAFE\n",
        "print(x)\n",
        "\n",
        "# Representação em binário\n",
        "x = 0b0000_0100_0011 # binário\n",
        "print(x)"
      ],
      "execution_count": null,
      "outputs": []
    },
    {
      "cell_type": "markdown",
      "metadata": {
        "id": "wj11R3Yk6uhV",
        "colab_type": "text"
      },
      "source": [
        "### Conversão entre tipos numéricos"
      ]
    },
    {
      "cell_type": "code",
      "metadata": {
        "id": "LI2hUElv6uDA",
        "colab_type": "code",
        "colab": {
          "base_uri": "https://localhost:8080/",
          "height": 94
        },
        "outputId": "d6748185-a199-4667-9096-4dcf8cdd6531"
      },
      "source": [
        "x = 10.0\n",
        "y = 20\n",
        "\n",
        "z = int(x)\n",
        "print(x, type(x))\n",
        "print(z, type(z))\n",
        "\n",
        "z = float(y)\n",
        "print(y, type(y))\n",
        "print(z, type(z))"
      ],
      "execution_count": null,
      "outputs": [
        {
          "output_type": "stream",
          "text": [
            "10.0 <class 'float'>\n",
            "10 <class 'int'>\n",
            "20 <class 'int'>\n",
            "20.0 <class 'float'>\n"
          ],
          "name": "stdout"
        }
      ]
    },
    {
      "cell_type": "markdown",
      "metadata": {
        "id": "mR2aj8fw-y41",
        "colab_type": "text"
      },
      "source": [
        "### Injeção de valores em strings"
      ]
    },
    {
      "cell_type": "code",
      "metadata": {
        "id": "x12e9F0_-yTJ",
        "colab_type": "code",
        "colab": {
          "base_uri": "https://localhost:8080/",
          "height": 133
        },
        "outputId": "dfccc58c-61b0-4f97-d59d-3e6bad520866"
      },
      "source": [
        "x = 10\n",
        "\n",
        "print(f'x = {x}')\n",
        "print(f'x = {x:5d}')\n",
        "print(f'x = {x:05d}')"
      ],
      "execution_count": null,
      "outputs": [
        {
          "output_type": "stream",
          "text": [
            "x = 10\n",
            "x =    10\n",
            "x = 00010\n",
            "\n",
            "y = 0.3231419338801889\n",
            "y = 0.32\n"
          ],
          "name": "stdout"
        }
      ]
    },
    {
      "cell_type": "code",
      "metadata": {
        "id": "LXAj2vTV_ZGh",
        "colab_type": "code",
        "colab": {}
      },
      "source": [
        "y = 13 / 40.23\n",
        "\n",
        "print(f'y = {y}')\n",
        "print(f'y = {y:.2f}')"
      ],
      "execution_count": null,
      "outputs": []
    },
    {
      "cell_type": "markdown",
      "metadata": {
        "id": "1-StEt7I6HgD",
        "colab_type": "text"
      },
      "source": [
        "## Operadores\n",
        "\n",
        "### Operadores Aritméticos\n",
        "\n",
        "| Operador | Descrição       |\n",
        "|:--------:|-----------------|\n",
        "| `+`      | Adição          |\n",
        "| `-`      | Subtração       |\n",
        "| `*`      | Multiplicação   |\n",
        "| `/`      | Divisão real    |\n",
        "| `//`     | Divisão inteira |\n",
        "| `%`      | Resto           |\n",
        "| `**`     | Potenciação     |"
      ]
    },
    {
      "cell_type": "code",
      "metadata": {
        "id": "p-cW8Xbp7yIO",
        "colab_type": "code",
        "colab": {}
      },
      "source": [
        "x = 2 + 3\n",
        "print(x)"
      ],
      "execution_count": null,
      "outputs": []
    },
    {
      "cell_type": "code",
      "metadata": {
        "id": "xTXYvaAG75AR",
        "colab_type": "code",
        "colab": {}
      },
      "source": [
        "x = 2 - 3\n",
        "print(x)"
      ],
      "execution_count": null,
      "outputs": []
    },
    {
      "cell_type": "code",
      "metadata": {
        "id": "XWi_vC_w77fn",
        "colab_type": "code",
        "colab": {}
      },
      "source": [
        "x = 2 * 3\n",
        "print(x)"
      ],
      "execution_count": null,
      "outputs": []
    },
    {
      "cell_type": "code",
      "metadata": {
        "id": "PQJeJFkq79ZD",
        "colab_type": "code",
        "colab": {}
      },
      "source": [
        "x = 2 / 3\n",
        "print(x)"
      ],
      "execution_count": null,
      "outputs": []
    },
    {
      "cell_type": "code",
      "metadata": {
        "id": "1IJmeGJV7_dL",
        "colab_type": "code",
        "colab": {}
      },
      "source": [
        "x = 2 // 3\n",
        "print(x)"
      ],
      "execution_count": null,
      "outputs": []
    },
    {
      "cell_type": "code",
      "metadata": {
        "id": "30nQpGy58BdW",
        "colab_type": "code",
        "colab": {}
      },
      "source": [
        "x = 2 % 3\n",
        "print(x)"
      ],
      "execution_count": null,
      "outputs": []
    },
    {
      "cell_type": "code",
      "metadata": {
        "id": "qIrJqaGN8EAd",
        "colab_type": "code",
        "colab": {}
      },
      "source": [
        "x = 2 ** 3\n",
        "print(x)"
      ],
      "execution_count": null,
      "outputs": []
    },
    {
      "cell_type": "code",
      "metadata": {
        "id": "VmQaCygl8GA6",
        "colab_type": "code",
        "colab": {}
      },
      "source": [
        "x = (2 - 3) * 4 ** 16\n",
        "print(x)"
      ],
      "execution_count": null,
      "outputs": []
    },
    {
      "cell_type": "code",
      "metadata": {
        "id": "Wbi1Faa_8ItJ",
        "colab_type": "code",
        "colab": {}
      },
      "source": [
        "x = 1 + 1 * 0\n",
        "print(x)"
      ],
      "execution_count": null,
      "outputs": []
    },
    {
      "cell_type": "markdown",
      "metadata": {
        "id": "w9ZCvB5Q8OdU",
        "colab_type": "text"
      },
      "source": [
        "### Operadores Relacionais\n",
        "\n",
        "| Operador  | Descrição |\n",
        "|:---------:|-----------|\n",
        "| `==`      | Igualdade | \n",
        "| `!=`      | Diferença | \n",
        "| `>`       | Maior     | \n",
        "| `>=`      | Maior ou igual    | \n",
        "| `<`       | Menor     | \n",
        "| `<=`      | Menor ou igual    | \n",
        "\n",
        "### Operadores Lógicos\n",
        "\n",
        "| Operador  | Descrição |\n",
        "|:---------:|-----------|\n",
        "| `or`      | ou lógico | \n",
        "| `and`     | e lógico  | \n",
        "| `not`     | negação   | "
      ]
    },
    {
      "cell_type": "markdown",
      "metadata": {
        "id": "g8MUZ_-d9pNN",
        "colab_type": "text"
      },
      "source": [
        "## Pacotes\n",
        "\n",
        "A importação de pacotes pode ser realizada de três maneiras diferentes:\n",
        "\n",
        "1. Importando o namespace:\n",
        "```python\n",
        "import random\n",
        "```\n",
        "1. Importando o namespace com outro nome:\n",
        "```python\n",
        "import random as rnd\n",
        "```\n",
        "1. Importando somente as funções que serão usadas:\n",
        "```python\n",
        "from random import randint\n",
        "```\n",
        "\n"
      ]
    },
    {
      "cell_type": "code",
      "metadata": {
        "id": "dlC_W86e-Qrg",
        "colab_type": "code",
        "colab": {}
      },
      "source": [
        "import random\n",
        "\n",
        "x = random.randint(1, 100)\n",
        "print(x)"
      ],
      "execution_count": null,
      "outputs": []
    },
    {
      "cell_type": "code",
      "metadata": {
        "id": "Nw3XMLss-VO6",
        "colab_type": "code",
        "colab": {}
      },
      "source": [
        "import random as rnd\n",
        "\n",
        "x = rnd.randint(1, 100)\n",
        "print(x)"
      ],
      "execution_count": null,
      "outputs": []
    },
    {
      "cell_type": "code",
      "metadata": {
        "id": "auvmWbfl-ZJH",
        "colab_type": "code",
        "colab": {}
      },
      "source": [
        "from random import randint\n",
        "\n",
        "x = randint(1, 100)\n",
        "print(x)"
      ],
      "execution_count": null,
      "outputs": []
    },
    {
      "cell_type": "markdown",
      "metadata": {
        "id": "AWJxXUWe-fwd",
        "colab_type": "text"
      },
      "source": [
        "## Estruturas de decisão\n",
        "\n",
        "- `if`\n",
        "- `if` / `else`\n",
        "- `if` / `elif` / `else`\n",
        "\n",
        "![image.png](data:image/png;base64,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)"
      ]
    },
    {
      "cell_type": "code",
      "metadata": {
        "id": "bg3SxqnF-fdX",
        "colab_type": "code",
        "colab": {}
      },
      "source": [
        "x = randint(1, 100)\n",
        "\n",
        "if x % 2 == 0:\n",
        "    print(f'O numero {x} eh par')\n",
        "else:\n",
        "    print(f'O numero {x} eh impar')"
      ],
      "execution_count": null,
      "outputs": []
    },
    {
      "cell_type": "code",
      "metadata": {
        "id": "Vm3-uDFj_hGk",
        "colab_type": "code",
        "colab": {}
      },
      "source": [
        "x = randint(-100, 100)\n",
        "\n",
        "if x > 0:\n",
        "    print(f'O numero {x} eh positivo')\n",
        "elif x < 0:\n",
        "    print(f'O numero {x} eh negativo')\n",
        "else:\n",
        "    print(f'O numero {x} eh nulo')"
      ],
      "execution_count": null,
      "outputs": []
    },
    {
      "cell_type": "code",
      "metadata": {
        "id": "yinXQZaK_kyF",
        "colab_type": "code",
        "colab": {}
      },
      "source": [
        "x = randint(1, 100)\n",
        "\n",
        "resultado = 'par' if x % 2 == 0 else 'ímpar'\n",
        "print(f'O numero {x} eh {resultado}')"
      ],
      "execution_count": null,
      "outputs": []
    },
    {
      "cell_type": "markdown",
      "metadata": {
        "id": "b-Soz3WZ_7vn",
        "colab_type": "text"
      },
      "source": [
        "## Estruturas de repetição\n",
        "\n",
        "- `for .. in`\n",
        "- `while`\n",
        "\n",
        "Para mudar o fluxo de execução de um laço podem ser usados os comandos:\n",
        "\n",
        "- `continue`\n",
        "- `break`\n"
      ]
    },
    {
      "cell_type": "code",
      "metadata": {
        "id": "RrslG5y1AF3w",
        "colab_type": "code",
        "colab": {}
      },
      "source": [
        "# Imprime de 0 a 9\n",
        "for i in range(10):\n",
        "    print(i)"
      ],
      "execution_count": null,
      "outputs": []
    },
    {
      "cell_type": "code",
      "metadata": {
        "id": "89UCt2sHAHtU",
        "colab_type": "code",
        "colab": {}
      },
      "source": [
        "# Imprime de 5 a 9\n",
        "for i in range(5, 10):\n",
        "    print(i)"
      ],
      "execution_count": null,
      "outputs": []
    },
    {
      "cell_type": "code",
      "metadata": {
        "id": "wCM2Sx6dAJ0T",
        "colab_type": "code",
        "colab": {}
      },
      "source": [
        "# Imprime de 5 a 20 de 3 em 3\n",
        "for i in range(5, 20, 3):\n",
        "    print(i)"
      ],
      "execution_count": null,
      "outputs": []
    },
    {
      "cell_type": "code",
      "metadata": {
        "id": "RtDWFtiyALvU",
        "colab_type": "code",
        "colab": {}
      },
      "source": [
        "lista_compras = ['banana', 'laranja', 'melancia', 'morango', 'abacaxi']\n",
        "\n",
        "for item in lista_compras:\n",
        "    print(item)"
      ],
      "execution_count": null,
      "outputs": []
    },
    {
      "cell_type": "code",
      "metadata": {
        "id": "IBjJzYqcAVKO",
        "colab_type": "code",
        "colab": {}
      },
      "source": [
        "x = 0\n",
        "while x < 10:\n",
        "    print(x)\n",
        "    x += 1"
      ],
      "execution_count": null,
      "outputs": []
    },
    {
      "cell_type": "markdown",
      "metadata": {
        "id": "5iM79AZTClEa",
        "colab_type": "text"
      },
      "source": [
        "## Listas"
      ]
    },
    {
      "cell_type": "code",
      "metadata": {
        "id": "h_A73lXICpmX",
        "colab_type": "code",
        "colab": {}
      },
      "source": [
        "lista = []\n",
        "for i in range(10):\n",
        "    lista.append(i)\n",
        "print(lista)"
      ],
      "execution_count": null,
      "outputs": []
    },
    {
      "cell_type": "code",
      "metadata": {
        "id": "ML1vRgLICtUh",
        "colab_type": "code",
        "colab": {}
      },
      "source": [
        "lista = [i for i in range(10)]\n",
        "print(lista)"
      ],
      "execution_count": null,
      "outputs": []
    },
    {
      "cell_type": "code",
      "metadata": {
        "id": "l4eTzAFSC4Bk",
        "colab_type": "code",
        "colab": {}
      },
      "source": [
        "lista = [0 for i in range(10)]\n",
        "print(lista)"
      ],
      "execution_count": null,
      "outputs": []
    },
    {
      "cell_type": "code",
      "metadata": {
        "id": "IGjtedb5C8y8",
        "colab_type": "code",
        "colab": {}
      },
      "source": [
        "lista = [randint(1, 100) for i in range(10)]\n",
        "print(lista)"
      ],
      "execution_count": null,
      "outputs": []
    },
    {
      "cell_type": "code",
      "metadata": {
        "id": "OzrvQdBZC_UX",
        "colab_type": "code",
        "colab": {}
      },
      "source": [
        "# Adiciona um elemento ao final\n",
        "lista.append(9999)\n",
        "print(lista)"
      ],
      "execution_count": null,
      "outputs": []
    },
    {
      "cell_type": "code",
      "metadata": {
        "id": "Lz1wawX9DB0U",
        "colab_type": "code",
        "colab": {}
      },
      "source": [
        "# Adiciona um elemento no inicio da lista\n",
        "lista.insert(0, -9999)\n",
        "print(lista)"
      ],
      "execution_count": null,
      "outputs": []
    },
    {
      "cell_type": "code",
      "metadata": {
        "id": "0jKKTN0FDD8l",
        "colab_type": "code",
        "colab": {}
      },
      "source": [
        "# Remove um elemento do final da lista\n",
        "lista.pop()\n",
        "print(lista)"
      ],
      "execution_count": null,
      "outputs": []
    },
    {
      "cell_type": "code",
      "metadata": {
        "id": "V5DGC510DGT6",
        "colab_type": "code",
        "colab": {}
      },
      "source": [
        "# Ordena a lista\n",
        "lista.sort()\n",
        "print(lista)"
      ],
      "execution_count": null,
      "outputs": []
    },
    {
      "cell_type": "code",
      "metadata": {
        "id": "a9ywWjHJDIob",
        "colab_type": "code",
        "colab": {}
      },
      "source": [
        "# Ordena em ordem descrescente\n",
        "lista.sort(reverse=True)\n",
        "print(lista)"
      ],
      "execution_count": null,
      "outputs": []
    },
    {
      "cell_type": "code",
      "metadata": {
        "id": "drFhI2MCDKwI",
        "colab_type": "code",
        "colab": {}
      },
      "source": [
        "# Quebra a lista em duas\n",
        "sublista1 = lista[:5]\n",
        "print(sublista1)"
      ],
      "execution_count": null,
      "outputs": []
    },
    {
      "cell_type": "code",
      "metadata": {
        "id": "klrYaI2kDNT7",
        "colab_type": "code",
        "colab": {}
      },
      "source": [
        "sublista2 = lista[5:9]\n",
        "print(sublista2)"
      ],
      "execution_count": null,
      "outputs": []
    },
    {
      "cell_type": "code",
      "metadata": {
        "id": "MXyFdO28DPCZ",
        "colab_type": "code",
        "colab": {}
      },
      "source": [
        "sublista3 = lista[5:]\n",
        "print(sublista3)"
      ],
      "execution_count": null,
      "outputs": []
    },
    {
      "cell_type": "code",
      "metadata": {
        "id": "kUqEGhFiDRzq",
        "colab_type": "code",
        "colab": {}
      },
      "source": [
        "# Acesso aos elementos\n",
        "print(lista[2])\n",
        "print(lista[-1]) # ultimo elemento"
      ],
      "execution_count": null,
      "outputs": []
    },
    {
      "cell_type": "code",
      "metadata": {
        "id": "qSWdRfF5DUFm",
        "colab_type": "code",
        "colab": {}
      },
      "source": [
        "# Verifica se um elemento esta na lista\n",
        "if 36 in lista:\n",
        "    print('A lista possui o 36')"
      ],
      "execution_count": null,
      "outputs": []
    },
    {
      "cell_type": "markdown",
      "metadata": {
        "id": "ET2s_PW9DXXM",
        "colab_type": "text"
      },
      "source": [
        "## Tuplas"
      ]
    },
    {
      "cell_type": "code",
      "metadata": {
        "id": "K_I6p_eVDYy5",
        "colab_type": "code",
        "colab": {}
      },
      "source": [
        "tupla = (1, 2, 3)\n",
        "print(tupla)"
      ],
      "execution_count": null,
      "outputs": []
    },
    {
      "cell_type": "code",
      "metadata": {
        "id": "2NODUkVhDcyr",
        "colab_type": "code",
        "colab": {}
      },
      "source": [
        "tupla[2] = 8"
      ],
      "execution_count": null,
      "outputs": []
    },
    {
      "cell_type": "markdown",
      "metadata": {
        "id": "AIUXdMaoEDrh",
        "colab_type": "text"
      },
      "source": [
        "## Conjuntos"
      ]
    },
    {
      "cell_type": "code",
      "metadata": {
        "id": "GUeWt32jEDA8",
        "colab_type": "code",
        "colab": {}
      },
      "source": [
        "conjunto = {1, 2, 3, 3, 3, 4, 5}\n",
        "print(conjunto)"
      ],
      "execution_count": null,
      "outputs": []
    },
    {
      "cell_type": "code",
      "metadata": {
        "id": "AVpOZlKJEQBq",
        "colab_type": "code",
        "colab": {}
      },
      "source": [
        "conjunto = set([1, 2, 3, 3, 3, 4, 5])\n",
        "print(conjunto)"
      ],
      "execution_count": null,
      "outputs": []
    },
    {
      "cell_type": "markdown",
      "metadata": {
        "id": "FncrSyLAEoAn",
        "colab_type": "text"
      },
      "source": [
        "## Dicionários"
      ]
    },
    {
      "cell_type": "code",
      "metadata": {
        "id": "dMaLX7DWEqSV",
        "colab_type": "code",
        "colab": {}
      },
      "source": [
        "aluno = {\n",
        "    'nome' : 'Joao',\n",
        "    'matricula': 1234,\n",
        "    'notas': [3, 4, 9]\n",
        "}\n",
        "print(aluno)"
      ],
      "execution_count": null,
      "outputs": []
    },
    {
      "cell_type": "code",
      "metadata": {
        "id": "SfMIGmMREtih",
        "colab_type": "code",
        "colab": {}
      },
      "source": [
        "aluno['curso'] = 'Ciencia da Computacao'\n",
        "print(aluno)"
      ],
      "execution_count": null,
      "outputs": []
    },
    {
      "cell_type": "code",
      "metadata": {
        "id": "9BQij60iEwoH",
        "colab_type": "code",
        "colab": {}
      },
      "source": [
        "a = aluno['disciplinas'] # ERRO"
      ],
      "execution_count": null,
      "outputs": []
    },
    {
      "cell_type": "code",
      "metadata": {
        "id": "dq4_QgSUE1ws",
        "colab_type": "code",
        "colab": {}
      },
      "source": [
        "a = aluno.get('disciplinas', 'Sem nome')\n",
        "print(a)"
      ],
      "execution_count": null,
      "outputs": []
    },
    {
      "cell_type": "markdown",
      "metadata": {
        "id": "g9BCjAZzE--Y",
        "colab_type": "text"
      },
      "source": [
        "## Classes"
      ]
    },
    {
      "cell_type": "code",
      "metadata": {
        "id": "VVPnH2v8FBDi",
        "colab_type": "code",
        "colab": {}
      },
      "source": [
        "class Produto:\n",
        "    \"\"\"Representacao de um produto em estoque na loja. \"\"\"\n",
        "    \n",
        "    def __init__(self, id = 0, nome = '', preco = 0, quantidade = 0):\n",
        "        \"\"\"Construtor da classe Produto.\"\"\"\n",
        "        \n",
        "        # Todos os atributos sao publicos!\n",
        "        #self.id = 0\n",
        "        #self.nome = ''\n",
        "        #self.preco = 0.0\n",
        "        #self.qtde = 0\n",
        "        \n",
        "        # Declaracao de atributos protegidos\n",
        "        #self._id = 0\n",
        "        #self._nome = ''\n",
        "        #self._preco = 0.0\n",
        "        #self._qtde = 0\n",
        "        \n",
        "        # Declaracao de atributos privados\n",
        "        self.__id = id\n",
        "        self.__nome = nome\n",
        "        self.__preco = preco\n",
        "        self.__qtde = quantidade\n",
        "        \n",
        "    @property\n",
        "    def id(self):\n",
        "        return self.__id\n",
        "    \n",
        "    @id.setter\n",
        "    def id(self, valor):\n",
        "        self.__id = valor\n",
        "        \n",
        "    @property\n",
        "    def nome(self):\n",
        "        return self.__nome\n",
        "    \n",
        "    @nome.setter\n",
        "    def nome(self, valor):\n",
        "        self.__nome = valor.upper()\n",
        "    \n",
        "    @property\n",
        "    def preco(self):\n",
        "        return self.__preco\n",
        "    \n",
        "    def total(self):\n",
        "        return self.__preco * self.__qtde\n",
        "    \n",
        "    def __str__(self):\n",
        "        return f'| {self.id:04} | {self.__nome:15s} | {self.__preco:10.2f} |'\n"
      ],
      "execution_count": null,
      "outputs": []
    },
    {
      "cell_type": "code",
      "metadata": {
        "id": "vq_XTD1dFPEY",
        "colab_type": "code",
        "colab": {}
      },
      "source": [
        "produto1 = Produto()\n",
        "produto1.id = 1234\n",
        "produto1.nome = 'Playstation 4'\n",
        "\n",
        "print(produto1.id)\n",
        "print(produto1.nome)"
      ],
      "execution_count": null,
      "outputs": []
    },
    {
      "cell_type": "code",
      "metadata": {
        "id": "ed1Wx8MEFZtf",
        "colab_type": "code",
        "colab": {}
      },
      "source": [
        "produto2 = Produto(2, 'Playstation 5')\n",
        "\n",
        "print(produto2.id)\n",
        "print(produto2.nome)"
      ],
      "execution_count": null,
      "outputs": []
    },
    {
      "cell_type": "code",
      "metadata": {
        "id": "SySJp_12FYNL",
        "colab_type": "code",
        "colab": {}
      },
      "source": [
        "produto3 = Produto(id=7, \n",
        "                   preco=200.10, \n",
        "                   quantidade=10, \n",
        "                   nome='Joguinho')\n",
        "\n",
        "print(produto3.id)\n",
        "print(produto3.nome)"
      ],
      "execution_count": null,
      "outputs": []
    },
    {
      "cell_type": "markdown",
      "metadata": {
        "id": "YibwOySxFmWA",
        "colab_type": "text"
      },
      "source": [
        "### Sobrecarga de operadores"
      ]
    },
    {
      "cell_type": "code",
      "metadata": {
        "id": "pHJBQdpUFopG",
        "colab_type": "code",
        "colab": {}
      },
      "source": [
        "class Ponto:\n",
        "    \n",
        "    def __init__(self, x = 0, y = 0):\n",
        "        self.x = x\n",
        "        self.y = y\n",
        "        \n",
        "    def __str__(self):\n",
        "        return f'({self.x}, {self.y})'\n",
        "    \n",
        "    def __add__(self, outro):\n",
        "        return Ponto(self.x + outro.x, self.y + outro.y)"
      ],
      "execution_count": null,
      "outputs": []
    },
    {
      "cell_type": "code",
      "metadata": {
        "id": "65gKWpNGFtgt",
        "colab_type": "code",
        "colab": {}
      },
      "source": [
        "p1 = Ponto(10, 3)\n",
        "p2 = Ponto(2, 2)\n",
        "\n",
        "p3 = p1 + p2\n",
        "\n",
        "print(f'{p1} + {p2} = {p3}')"
      ],
      "execution_count": null,
      "outputs": []
    },
    {
      "cell_type": "markdown",
      "metadata": {
        "id": "Xn8cD2u2F10e",
        "colab_type": "text"
      },
      "source": [
        "### Herança"
      ]
    },
    {
      "cell_type": "code",
      "metadata": {
        "id": "NRTUyZcoF30n",
        "colab_type": "code",
        "colab": {}
      },
      "source": [
        "class Funcionario:\n",
        "    def __init__(self, nome, salario):\n",
        "        self._nome = nome\n",
        "        self._salario = salario\n",
        "    \n",
        "    def __str__(self):\n",
        "        return f'{self._nome}: {self._salario:10.2f}'\n",
        "        \n",
        "class Programador(Funcionario):\n",
        "    def __init__(self, nome, salario):\n",
        "        super().__init__(nome, salario) # Chama o construtor da classe pai"
      ],
      "execution_count": null,
      "outputs": []
    },
    {
      "cell_type": "code",
      "metadata": {
        "id": "cPgkZWBQF9j3",
        "colab_type": "code",
        "colab": {}
      },
      "source": [
        "zeh = Programador('Zeh', 3000)\n",
        "print(zeh)"
      ],
      "execution_count": null,
      "outputs": []
    },
    {
      "cell_type": "markdown",
      "metadata": {
        "id": "wQWVhuZRGESG",
        "colab_type": "text"
      },
      "source": [
        "## Funções Lambda\n",
        "\n",
        "Funções sem nome usadas pontualmente para alguma operação."
      ]
    },
    {
      "cell_type": "code",
      "metadata": {
        "id": "CpvchN_iGGIn",
        "colab_type": "code",
        "colab": {}
      },
      "source": [
        "soma = lambda x, y: x + y\n",
        "\n",
        "print(soma(1, 2))"
      ],
      "execution_count": null,
      "outputs": []
    },
    {
      "cell_type": "code",
      "metadata": {
        "id": "XOtxGk-2GKbj",
        "colab_type": "code",
        "colab": {}
      },
      "source": [
        "produtos = [\n",
        "    Produto(1, 'camiseta', 12.99),\n",
        "    Produto(2, 'calca', 23.99),\n",
        "    Produto(3, 'bermuda', 13.99),\n",
        "    Produto(4, 'luva', 3.99),\n",
        "    Produto(5, 'furadeira', 439.99),\n",
        "    Produto(6, 'oculos', 199.99),\n",
        "]\n",
        "\n",
        "for i in produtos:\n",
        "    print(i)"
      ],
      "execution_count": null,
      "outputs": []
    },
    {
      "cell_type": "code",
      "metadata": {
        "id": "gXn38VEwGNeu",
        "colab_type": "code",
        "colab": {}
      },
      "source": [
        "produtos.sort(key=lambda x: x.nome)\n",
        "for i in produtos:\n",
        "    print(i)"
      ],
      "execution_count": null,
      "outputs": []
    },
    {
      "cell_type": "code",
      "metadata": {
        "id": "t--oZa_fGRAg",
        "colab_type": "code",
        "colab": {}
      },
      "source": [
        "produtos.sort(key=lambda x: x.preco)\n",
        "for i in produtos:\n",
        "    print(i)"
      ],
      "execution_count": null,
      "outputs": []
    },
    {
      "cell_type": "code",
      "metadata": {
        "id": "j9LA3TCAGWVR",
        "colab_type": "code",
        "colab": {}
      },
      "source": [
        "produtos.sort(key=lambda x: x.preco, reverse=True)\n",
        "for i in produtos:\n",
        "    print(i)"
      ],
      "execution_count": null,
      "outputs": []
    },
    {
      "cell_type": "markdown",
      "metadata": {
        "id": "-wH2NRe-Gt7P",
        "colab_type": "text"
      },
      "source": [
        "## Referências bibliográficas\n",
        "\n",
        "- [Apostila Python](https://www.ufsm.br/app/uploads/sites/679/2019/08/Apostila_Python_v_1.pdf)"
      ]
    }
  ]
}